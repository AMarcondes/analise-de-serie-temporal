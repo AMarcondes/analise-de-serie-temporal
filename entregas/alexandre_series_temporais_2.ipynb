{
 "cells": [
  {
   "cell_type": "markdown",
   "metadata": {},
   "source": [
    "# Atividade 1 - Séries temporais\n",
    "\n",
    "Utilizando o conjunto de dados `dados_clima.csv`:\n",
    "\n",
    "* Modifique o shape de entrada para se adequar a rede neural.\n",
    "* Monte uma rede neural RNN para predicao.\n",
    "* Modifique essa rede neural para utilizar uma camada LSTM.\n",
    "\n",
    "Mostre o RMSE da predicao.\n",
    "\n",
    "**Vamos utilizar como coluna-alvo a temperatura máxima (`tmax`).**\n",
    "\n",
    "\n",
    "## Objetivo\n",
    "\n",
    "Prever a temperatura máxima para os próximos 7 dias nas diferentes cidades presentes no dataset.\n",
    "\n",
    "## Treino e teste\n",
    "\n",
    "Considerando o objetivo, é importante separar o dataset em treino e teste considerando as datas, não coletando aleatoriamente.\n",
    "\n",
    "Sendo assim, vamos separar os últimos 7 dias dos dados como dados de teste.\n",
    "\n",
    "Além disso, neste primeiro momento vamos considerar somente dados a partir de 2013 para nossos experimentos, pois o tempo de treinamento está muito longo. Podemos utilizar o conjunto inteiro de dados posteriormente, testando nos melhores modelos.\n",
    "\n",
    "# Bibliotecas"
   ]
  },
  {
   "cell_type": "code",
   "execution_count": 42,
   "metadata": {},
   "outputs": [],
   "source": [
    "import pandas as pd\n",
    "pd.set_option('display.max_columns', 100)\n",
    "import numpy as np\n",
    "%matplotlib inline\n",
    "import matplotlib.pyplot as plt\n",
    "plt.style.context('bmh')\n",
    "\n",
    "import tensorflow as tf\n",
    "tf.__version__ #Talvez seja necessário instalar tensorflow 2 antes de iniciar esse notebook\n",
    "#Adicione a sua arquitetura, lembrando que a entrada tem tamanho maxlen e a saída 2\n",
    "from tensorflow.keras.models import Sequential\n",
    "from tensorflow.keras.layers import Embedding\n",
    "from tensorflow.keras.layers import Flatten\n",
    "from tensorflow.keras.layers import Dense\n",
    "from tensorflow.keras.layers import Dropout\n",
    "from tensorflow.keras.layers import SimpleRNN\n",
    "from tensorflow.keras.layers import LSTM\n",
    "from tensorflow.keras.utils import to_categorical\n",
    "\n",
    "from sklearn.preprocessing import LabelEncoder\n",
    "from sklearn.preprocessing import OneHotEncoder\n",
    "from sklearn.preprocessing import MinMaxScaler\n",
    "from sklearn.metrics import mean_squared_error\n",
    "\n",
    "import gc"
   ]
  },
  {
   "cell_type": "code",
   "execution_count": 43,
   "metadata": {},
   "outputs": [
    {
     "name": "stdout",
     "output_type": "stream",
     "text": [
      "1 Physical GPUs, 1 Logical GPUs\n"
     ]
    }
   ],
   "source": [
    "gpus = tf.config.experimental.list_physical_devices('GPU')\n",
    "if gpus:\n",
    "    try:\n",
    "        # Restrict TensorFlow to only use the fourth GPU\n",
    "        tf.config.experimental.set_visible_devices(gpus[0], 'GPU')\n",
    "\n",
    "        # Currently, memory growth needs to be the same across GPUs\n",
    "        for gpu in gpus:\n",
    "            tf.config.experimental.set_memory_growth(gpu, True)\n",
    "        logical_gpus = tf.config.experimental.list_logical_devices('GPU')\n",
    "        print(len(gpus), \"Physical GPUs,\", len(logical_gpus), \"Logical GPUs\")\n",
    "    except RuntimeError as e:\n",
    "        # Memory growth must be set before GPUs have been initialized\n",
    "        print(e)"
   ]
  },
  {
   "cell_type": "markdown",
   "metadata": {},
   "source": [
    "# Dados"
   ]
  },
  {
   "cell_type": "code",
   "execution_count": 44,
   "metadata": {},
   "outputs": [
    {
     "name": "stdout",
     "output_type": "stream",
     "text": [
      "Dataset com 214166 linhas e 13 colunas.\n"
     ]
    }
   ],
   "source": [
    "clima = pd.read_csv('dados_clima.csv')\n",
    "print('Dataset com {} linhas e {} colunas.'.format(clima.shape[0], clima.shape[1]))"
   ]
  },
  {
   "cell_type": "code",
   "execution_count": 45,
   "metadata": {},
   "outputs": [
    {
     "data": {
      "text/html": [
       "<div>\n",
       "<style scoped>\n",
       "    .dataframe tbody tr th:only-of-type {\n",
       "        vertical-align: middle;\n",
       "    }\n",
       "\n",
       "    .dataframe tbody tr th {\n",
       "        vertical-align: top;\n",
       "    }\n",
       "\n",
       "    .dataframe thead th {\n",
       "        text-align: right;\n",
       "    }\n",
       "</style>\n",
       "<table border=\"1\" class=\"dataframe\">\n",
       "  <thead>\n",
       "    <tr style=\"text-align: right;\">\n",
       "      <th></th>\n",
       "      <th>Estacao</th>\n",
       "      <th>altitude</th>\n",
       "      <th>cidade</th>\n",
       "      <th>data</th>\n",
       "      <th>estado</th>\n",
       "      <th>fonte</th>\n",
       "      <th>insolacao</th>\n",
       "      <th>latitude</th>\n",
       "      <th>longitude</th>\n",
       "      <th>precipitacao</th>\n",
       "      <th>tmax</th>\n",
       "      <th>tmin</th>\n",
       "      <th>ur</th>\n",
       "    </tr>\n",
       "  </thead>\n",
       "  <tbody>\n",
       "    <tr>\n",
       "      <th>0</th>\n",
       "      <td>83552</td>\n",
       "      <td>130.0</td>\n",
       "      <td>corumba</td>\n",
       "      <td>01/01/2000</td>\n",
       "      <td>ms</td>\n",
       "      <td>inpe</td>\n",
       "      <td>9.8</td>\n",
       "      <td>-19.01</td>\n",
       "      <td>-57.65</td>\n",
       "      <td>NaN</td>\n",
       "      <td>32.9</td>\n",
       "      <td>NaN</td>\n",
       "      <td>64.50</td>\n",
       "    </tr>\n",
       "    <tr>\n",
       "      <th>1</th>\n",
       "      <td>83552</td>\n",
       "      <td>130.0</td>\n",
       "      <td>corumba</td>\n",
       "      <td>02/01/2000</td>\n",
       "      <td>ms</td>\n",
       "      <td>inpe</td>\n",
       "      <td>12.4</td>\n",
       "      <td>-19.01</td>\n",
       "      <td>-57.65</td>\n",
       "      <td>1.2</td>\n",
       "      <td>33.6</td>\n",
       "      <td>24.4</td>\n",
       "      <td>59.25</td>\n",
       "    </tr>\n",
       "    <tr>\n",
       "      <th>2</th>\n",
       "      <td>83552</td>\n",
       "      <td>130.0</td>\n",
       "      <td>corumba</td>\n",
       "      <td>03/01/2000</td>\n",
       "      <td>ms</td>\n",
       "      <td>inpe</td>\n",
       "      <td>12.3</td>\n",
       "      <td>-19.01</td>\n",
       "      <td>-57.65</td>\n",
       "      <td>0.0</td>\n",
       "      <td>35.6</td>\n",
       "      <td>21.5</td>\n",
       "      <td>60.75</td>\n",
       "    </tr>\n",
       "    <tr>\n",
       "      <th>3</th>\n",
       "      <td>83552</td>\n",
       "      <td>130.0</td>\n",
       "      <td>corumba</td>\n",
       "      <td>04/01/2000</td>\n",
       "      <td>ms</td>\n",
       "      <td>inpe</td>\n",
       "      <td>12.4</td>\n",
       "      <td>-19.01</td>\n",
       "      <td>-57.65</td>\n",
       "      <td>0.0</td>\n",
       "      <td>37.2</td>\n",
       "      <td>23.8</td>\n",
       "      <td>58.75</td>\n",
       "    </tr>\n",
       "    <tr>\n",
       "      <th>4</th>\n",
       "      <td>83552</td>\n",
       "      <td>130.0</td>\n",
       "      <td>corumba</td>\n",
       "      <td>05/01/2000</td>\n",
       "      <td>ms</td>\n",
       "      <td>inpe</td>\n",
       "      <td>12.2</td>\n",
       "      <td>-19.01</td>\n",
       "      <td>-57.65</td>\n",
       "      <td>0.0</td>\n",
       "      <td>37.4</td>\n",
       "      <td>23.7</td>\n",
       "      <td>57.25</td>\n",
       "    </tr>\n",
       "  </tbody>\n",
       "</table>\n",
       "</div>"
      ],
      "text/plain": [
       "   Estacao  altitude   cidade        data estado fonte  insolacao  latitude  \\\n",
       "0    83552     130.0  corumba  01/01/2000     ms  inpe        9.8    -19.01   \n",
       "1    83552     130.0  corumba  02/01/2000     ms  inpe       12.4    -19.01   \n",
       "2    83552     130.0  corumba  03/01/2000     ms  inpe       12.3    -19.01   \n",
       "3    83552     130.0  corumba  04/01/2000     ms  inpe       12.4    -19.01   \n",
       "4    83552     130.0  corumba  05/01/2000     ms  inpe       12.2    -19.01   \n",
       "\n",
       "   longitude  precipitacao  tmax  tmin     ur  \n",
       "0     -57.65           NaN  32.9   NaN  64.50  \n",
       "1     -57.65           1.2  33.6  24.4  59.25  \n",
       "2     -57.65           0.0  35.6  21.5  60.75  \n",
       "3     -57.65           0.0  37.2  23.8  58.75  \n",
       "4     -57.65           0.0  37.4  23.7  57.25  "
      ]
     },
     "execution_count": 45,
     "metadata": {},
     "output_type": "execute_result"
    }
   ],
   "source": [
    "clima.head()"
   ]
  },
  {
   "cell_type": "code",
   "execution_count": 46,
   "metadata": {},
   "outputs": [
    {
     "name": "stdout",
     "output_type": "stream",
     "text": [
      "Quantidade de estados: 3.\n",
      "Quantidade de cidades: 31.\n",
      "Quantidade de estações: 32.\n"
     ]
    }
   ],
   "source": [
    "print('Quantidade de estados: {}.'.format(clima.estado.nunique()))\n",
    "print('Quantidade de cidades: {}.'.format(clima.cidade.nunique()))\n",
    "print('Quantidade de estações: {}.'.format(clima.Estacao.nunique()))"
   ]
  },
  {
   "cell_type": "code",
   "execution_count": 47,
   "metadata": {},
   "outputs": [
    {
     "name": "stdout",
     "output_type": "stream",
     "text": [
      "Estados no dataset:\n",
      "['ms' 'pr' 'sp']\n"
     ]
    }
   ],
   "source": [
    "print('Estados no dataset:')\n",
    "print(clima.estado.unique())"
   ]
  },
  {
   "cell_type": "code",
   "execution_count": 48,
   "metadata": {},
   "outputs": [
    {
     "name": "stdout",
     "output_type": "stream",
     "text": [
      "Quantidade de fontes de dados: 2.\n"
     ]
    }
   ],
   "source": [
    "print('Quantidade de fontes de dados: {}.'.format(clima.fonte.nunique()))"
   ]
  },
  {
   "cell_type": "code",
   "execution_count": 49,
   "metadata": {},
   "outputs": [
    {
     "data": {
      "text/plain": [
       "inpe     162845\n",
       "iapar     51321\n",
       "Name: fonte, dtype: int64"
      ]
     },
     "execution_count": 49,
     "metadata": {},
     "output_type": "execute_result"
    }
   ],
   "source": [
    "clima.fonte.value_counts()"
   ]
  },
  {
   "cell_type": "code",
   "execution_count": 50,
   "metadata": {},
   "outputs": [
    {
     "data": {
      "text/plain": [
       "Estacao            0\n",
       "altitude           0\n",
       "cidade             0\n",
       "data               0\n",
       "estado             0\n",
       "fonte              0\n",
       "insolacao       2215\n",
       "latitude           0\n",
       "longitude          0\n",
       "precipitacao       1\n",
       "tmax               0\n",
       "tmin               1\n",
       "ur                 0\n",
       "dtype: int64"
      ]
     },
     "execution_count": 50,
     "metadata": {},
     "output_type": "execute_result"
    }
   ],
   "source": [
    "clima.isnull().sum()"
   ]
  },
  {
   "cell_type": "markdown",
   "metadata": {},
   "source": [
    "Vamos substituir os dados faltantes pela mediana. Os principais dados faltantes são de insolação, enquanto dados de temperatura e precipitação tem somente um dado faltante em cada."
   ]
  },
  {
   "cell_type": "code",
   "execution_count": 51,
   "metadata": {},
   "outputs": [],
   "source": [
    "clima.insolacao.fillna(clima.insolacao.median(), inplace=True)\n",
    "clima.precipitacao.fillna(clima.precipitacao.median(), inplace=True)\n",
    "clima.tmin.fillna(clima.tmin.median(), inplace=True)"
   ]
  },
  {
   "cell_type": "markdown",
   "metadata": {},
   "source": [
    "# Preparando os dados\n",
    "Em um primeiro momento vamos construir um modelo simples de MLP, que servirá como baseline para os próximos modelos.\n",
    "\n",
    "Vamos seguir algumas etapas na construção da base de dados:\n",
    "\n",
    "* Transformação das variáveis categóricas;\n",
    "* Separação em treino e teste;\n",
    "* Transformação do dataframe em numpy array;\n",
    "* Normalização dos dados."
   ]
  },
  {
   "cell_type": "code",
   "execution_count": 52,
   "metadata": {},
   "outputs": [],
   "source": [
    "# Transformando a coluna de data\n",
    "clima.loc[:, 'data'] = pd.to_datetime(clima.data, format=\"%d/%m/%Y\")"
   ]
  },
  {
   "cell_type": "markdown",
   "metadata": {},
   "source": [
    "### Transformação das variáveis categóricas"
   ]
  },
  {
   "cell_type": "markdown",
   "metadata": {},
   "source": [
    "Para a transformação será utilizada one hot encoding, através do método `get_dummies` do Pandas.\n",
    "\n",
    "A coluna `Estacao` foi transformada em string, pois o método `get_dummies` aceita somente strings para as variáveis categoricas."
   ]
  },
  {
   "cell_type": "code",
   "execution_count": 53,
   "metadata": {},
   "outputs": [
    {
     "data": {
      "text/plain": [
       "5214"
      ]
     },
     "execution_count": 53,
     "metadata": {},
     "output_type": "execute_result"
    }
   ],
   "source": [
    "# Colunas categóricas\n",
    "cat_cols = ['Estacao', 'cidade', 'estado', 'fonte' ]\n",
    "# Transforma coluna em string\n",
    "clima.loc[:, 'Estacao'] = clima.Estacao.astype(str)\n",
    "# Aplica o one hot\n",
    "one_hot = pd.get_dummies(clima[cat_cols])\n",
    "# Dropa as colunas antigas\n",
    "clima.drop(cat_cols, axis=1, inplace=True)\n",
    "# Adiciona o df com one hot encoding ao dataframe original\n",
    "clima = clima.join(one_hot)\n",
    "data = clima.copy()\n",
    "data.index = data.data\n",
    "del one_hot\n",
    "gc.collect()"
   ]
  },
  {
   "cell_type": "code",
   "execution_count": 54,
   "metadata": {},
   "outputs": [
    {
     "data": {
      "text/html": [
       "<div>\n",
       "<style scoped>\n",
       "    .dataframe tbody tr th:only-of-type {\n",
       "        vertical-align: middle;\n",
       "    }\n",
       "\n",
       "    .dataframe tbody tr th {\n",
       "        vertical-align: top;\n",
       "    }\n",
       "\n",
       "    .dataframe thead th {\n",
       "        text-align: right;\n",
       "    }\n",
       "</style>\n",
       "<table border=\"1\" class=\"dataframe\">\n",
       "  <thead>\n",
       "    <tr style=\"text-align: right;\">\n",
       "      <th></th>\n",
       "      <th>altitude</th>\n",
       "      <th>data</th>\n",
       "      <th>insolacao</th>\n",
       "      <th>latitude</th>\n",
       "      <th>longitude</th>\n",
       "      <th>precipitacao</th>\n",
       "      <th>tmax</th>\n",
       "      <th>tmin</th>\n",
       "      <th>ur</th>\n",
       "      <th>Estacao_2350018</th>\n",
       "      <th>Estacao_2351003</th>\n",
       "      <th>Estacao_2352017</th>\n",
       "      <th>Estacao_2353008</th>\n",
       "      <th>Estacao_2550025</th>\n",
       "      <th>Estacao_2551010</th>\n",
       "      <th>Estacao_2653012</th>\n",
       "      <th>Estacao_83075</th>\n",
       "      <th>Estacao_83513</th>\n",
       "      <th>Estacao_83552</th>\n",
       "      <th>Estacao_83565</th>\n",
       "      <th>Estacao_83623</th>\n",
       "      <th>Estacao_83630</th>\n",
       "      <th>Estacao_83669</th>\n",
       "      <th>Estacao_83676</th>\n",
       "      <th>Estacao_83702</th>\n",
       "      <th>Estacao_83704</th>\n",
       "      <th>Estacao_83714</th>\n",
       "      <th>Estacao_83716</th>\n",
       "      <th>Estacao_83726</th>\n",
       "      <th>Estacao_83766</th>\n",
       "      <th>Estacao_83767</th>\n",
       "      <th>Estacao_83773</th>\n",
       "      <th>Estacao_83781</th>\n",
       "      <th>Estacao_83783</th>\n",
       "      <th>Estacao_83784</th>\n",
       "      <th>Estacao_83811</th>\n",
       "      <th>Estacao_83813</th>\n",
       "      <th>Estacao_83836</th>\n",
       "      <th>Estacao_83842</th>\n",
       "      <th>Estacao_83844</th>\n",
       "      <th>Estacao_83851</th>\n",
       "      <th>cidade_avare</th>\n",
       "      <th>cidade_bandeirantes</th>\n",
       "      <th>cidade_campomourao</th>\n",
       "      <th>cidade_camposdojordao</th>\n",
       "      <th>cidade_castro</th>\n",
       "      <th>cidade_catanduva</th>\n",
       "      <th>cidade_corumba</th>\n",
       "      <th>cidade_curitiba</th>\n",
       "      <th>cidade_fernandespinheiro</th>\n",
       "      <th>cidade_franca</th>\n",
       "      <th>cidade_franciscobeltrao</th>\n",
       "      <th>cidade_guarapuava</th>\n",
       "      <th>cidade_guarulhos</th>\n",
       "      <th>cidade_irati</th>\n",
       "      <th>cidade_ivai</th>\n",
       "      <th>cidade_ivinhema</th>\n",
       "      <th>cidade_londrina</th>\n",
       "      <th>cidade_maringa</th>\n",
       "      <th>cidade_nhecolandia</th>\n",
       "      <th>cidade_paranagua</th>\n",
       "      <th>cidade_paranaiba</th>\n",
       "      <th>cidade_paranavai</th>\n",
       "      <th>cidade_pontapora</th>\n",
       "      <th>cidade_presidenteprudente</th>\n",
       "      <th>cidade_saocarlos</th>\n",
       "      <th>cidade_saopaulo</th>\n",
       "      <th>cidade_saosimao</th>\n",
       "      <th>cidade_sorocaba</th>\n",
       "      <th>cidade_taubate</th>\n",
       "      <th>cidade_umuarama</th>\n",
       "      <th>cidade_votuporanga</th>\n",
       "      <th>estado_ms</th>\n",
       "      <th>estado_pr</th>\n",
       "      <th>estado_sp</th>\n",
       "      <th>fonte_iapar</th>\n",
       "      <th>fonte_inpe</th>\n",
       "    </tr>\n",
       "    <tr>\n",
       "      <th>data</th>\n",
       "      <th></th>\n",
       "      <th></th>\n",
       "      <th></th>\n",
       "      <th></th>\n",
       "      <th></th>\n",
       "      <th></th>\n",
       "      <th></th>\n",
       "      <th></th>\n",
       "      <th></th>\n",
       "      <th></th>\n",
       "      <th></th>\n",
       "      <th></th>\n",
       "      <th></th>\n",
       "      <th></th>\n",
       "      <th></th>\n",
       "      <th></th>\n",
       "      <th></th>\n",
       "      <th></th>\n",
       "      <th></th>\n",
       "      <th></th>\n",
       "      <th></th>\n",
       "      <th></th>\n",
       "      <th></th>\n",
       "      <th></th>\n",
       "      <th></th>\n",
       "      <th></th>\n",
       "      <th></th>\n",
       "      <th></th>\n",
       "      <th></th>\n",
       "      <th></th>\n",
       "      <th></th>\n",
       "      <th></th>\n",
       "      <th></th>\n",
       "      <th></th>\n",
       "      <th></th>\n",
       "      <th></th>\n",
       "      <th></th>\n",
       "      <th></th>\n",
       "      <th></th>\n",
       "      <th></th>\n",
       "      <th></th>\n",
       "      <th></th>\n",
       "      <th></th>\n",
       "      <th></th>\n",
       "      <th></th>\n",
       "      <th></th>\n",
       "      <th></th>\n",
       "      <th></th>\n",
       "      <th></th>\n",
       "      <th></th>\n",
       "      <th></th>\n",
       "      <th></th>\n",
       "      <th></th>\n",
       "      <th></th>\n",
       "      <th></th>\n",
       "      <th></th>\n",
       "      <th></th>\n",
       "      <th></th>\n",
       "      <th></th>\n",
       "      <th></th>\n",
       "      <th></th>\n",
       "      <th></th>\n",
       "      <th></th>\n",
       "      <th></th>\n",
       "      <th></th>\n",
       "      <th></th>\n",
       "      <th></th>\n",
       "      <th></th>\n",
       "      <th></th>\n",
       "      <th></th>\n",
       "      <th></th>\n",
       "      <th></th>\n",
       "      <th></th>\n",
       "      <th></th>\n",
       "      <th></th>\n",
       "      <th></th>\n",
       "      <th></th>\n",
       "    </tr>\n",
       "  </thead>\n",
       "  <tbody>\n",
       "    <tr>\n",
       "      <th>2000-01-01</th>\n",
       "      <td>130.0</td>\n",
       "      <td>2000-01-01</td>\n",
       "      <td>9.8</td>\n",
       "      <td>-19.01</td>\n",
       "      <td>-57.65</td>\n",
       "      <td>0.0</td>\n",
       "      <td>32.9</td>\n",
       "      <td>17.0</td>\n",
       "      <td>64.50</td>\n",
       "      <td>0</td>\n",
       "      <td>0</td>\n",
       "      <td>0</td>\n",
       "      <td>0</td>\n",
       "      <td>0</td>\n",
       "      <td>0</td>\n",
       "      <td>0</td>\n",
       "      <td>0</td>\n",
       "      <td>0</td>\n",
       "      <td>1</td>\n",
       "      <td>0</td>\n",
       "      <td>0</td>\n",
       "      <td>0</td>\n",
       "      <td>0</td>\n",
       "      <td>0</td>\n",
       "      <td>0</td>\n",
       "      <td>0</td>\n",
       "      <td>0</td>\n",
       "      <td>0</td>\n",
       "      <td>0</td>\n",
       "      <td>0</td>\n",
       "      <td>0</td>\n",
       "      <td>0</td>\n",
       "      <td>0</td>\n",
       "      <td>0</td>\n",
       "      <td>0</td>\n",
       "      <td>0</td>\n",
       "      <td>0</td>\n",
       "      <td>0</td>\n",
       "      <td>0</td>\n",
       "      <td>0</td>\n",
       "      <td>0</td>\n",
       "      <td>0</td>\n",
       "      <td>0</td>\n",
       "      <td>0</td>\n",
       "      <td>0</td>\n",
       "      <td>0</td>\n",
       "      <td>0</td>\n",
       "      <td>1</td>\n",
       "      <td>0</td>\n",
       "      <td>0</td>\n",
       "      <td>0</td>\n",
       "      <td>0</td>\n",
       "      <td>0</td>\n",
       "      <td>0</td>\n",
       "      <td>0</td>\n",
       "      <td>0</td>\n",
       "      <td>0</td>\n",
       "      <td>0</td>\n",
       "      <td>0</td>\n",
       "      <td>0</td>\n",
       "      <td>0</td>\n",
       "      <td>0</td>\n",
       "      <td>0</td>\n",
       "      <td>0</td>\n",
       "      <td>0</td>\n",
       "      <td>0</td>\n",
       "      <td>0</td>\n",
       "      <td>0</td>\n",
       "      <td>0</td>\n",
       "      <td>0</td>\n",
       "      <td>0</td>\n",
       "      <td>0</td>\n",
       "      <td>1</td>\n",
       "      <td>0</td>\n",
       "      <td>0</td>\n",
       "      <td>0</td>\n",
       "      <td>1</td>\n",
       "    </tr>\n",
       "    <tr>\n",
       "      <th>2000-01-02</th>\n",
       "      <td>130.0</td>\n",
       "      <td>2000-01-02</td>\n",
       "      <td>12.4</td>\n",
       "      <td>-19.01</td>\n",
       "      <td>-57.65</td>\n",
       "      <td>1.2</td>\n",
       "      <td>33.6</td>\n",
       "      <td>24.4</td>\n",
       "      <td>59.25</td>\n",
       "      <td>0</td>\n",
       "      <td>0</td>\n",
       "      <td>0</td>\n",
       "      <td>0</td>\n",
       "      <td>0</td>\n",
       "      <td>0</td>\n",
       "      <td>0</td>\n",
       "      <td>0</td>\n",
       "      <td>0</td>\n",
       "      <td>1</td>\n",
       "      <td>0</td>\n",
       "      <td>0</td>\n",
       "      <td>0</td>\n",
       "      <td>0</td>\n",
       "      <td>0</td>\n",
       "      <td>0</td>\n",
       "      <td>0</td>\n",
       "      <td>0</td>\n",
       "      <td>0</td>\n",
       "      <td>0</td>\n",
       "      <td>0</td>\n",
       "      <td>0</td>\n",
       "      <td>0</td>\n",
       "      <td>0</td>\n",
       "      <td>0</td>\n",
       "      <td>0</td>\n",
       "      <td>0</td>\n",
       "      <td>0</td>\n",
       "      <td>0</td>\n",
       "      <td>0</td>\n",
       "      <td>0</td>\n",
       "      <td>0</td>\n",
       "      <td>0</td>\n",
       "      <td>0</td>\n",
       "      <td>0</td>\n",
       "      <td>0</td>\n",
       "      <td>0</td>\n",
       "      <td>0</td>\n",
       "      <td>1</td>\n",
       "      <td>0</td>\n",
       "      <td>0</td>\n",
       "      <td>0</td>\n",
       "      <td>0</td>\n",
       "      <td>0</td>\n",
       "      <td>0</td>\n",
       "      <td>0</td>\n",
       "      <td>0</td>\n",
       "      <td>0</td>\n",
       "      <td>0</td>\n",
       "      <td>0</td>\n",
       "      <td>0</td>\n",
       "      <td>0</td>\n",
       "      <td>0</td>\n",
       "      <td>0</td>\n",
       "      <td>0</td>\n",
       "      <td>0</td>\n",
       "      <td>0</td>\n",
       "      <td>0</td>\n",
       "      <td>0</td>\n",
       "      <td>0</td>\n",
       "      <td>0</td>\n",
       "      <td>0</td>\n",
       "      <td>0</td>\n",
       "      <td>1</td>\n",
       "      <td>0</td>\n",
       "      <td>0</td>\n",
       "      <td>0</td>\n",
       "      <td>1</td>\n",
       "    </tr>\n",
       "    <tr>\n",
       "      <th>2000-01-03</th>\n",
       "      <td>130.0</td>\n",
       "      <td>2000-01-03</td>\n",
       "      <td>12.3</td>\n",
       "      <td>-19.01</td>\n",
       "      <td>-57.65</td>\n",
       "      <td>0.0</td>\n",
       "      <td>35.6</td>\n",
       "      <td>21.5</td>\n",
       "      <td>60.75</td>\n",
       "      <td>0</td>\n",
       "      <td>0</td>\n",
       "      <td>0</td>\n",
       "      <td>0</td>\n",
       "      <td>0</td>\n",
       "      <td>0</td>\n",
       "      <td>0</td>\n",
       "      <td>0</td>\n",
       "      <td>0</td>\n",
       "      <td>1</td>\n",
       "      <td>0</td>\n",
       "      <td>0</td>\n",
       "      <td>0</td>\n",
       "      <td>0</td>\n",
       "      <td>0</td>\n",
       "      <td>0</td>\n",
       "      <td>0</td>\n",
       "      <td>0</td>\n",
       "      <td>0</td>\n",
       "      <td>0</td>\n",
       "      <td>0</td>\n",
       "      <td>0</td>\n",
       "      <td>0</td>\n",
       "      <td>0</td>\n",
       "      <td>0</td>\n",
       "      <td>0</td>\n",
       "      <td>0</td>\n",
       "      <td>0</td>\n",
       "      <td>0</td>\n",
       "      <td>0</td>\n",
       "      <td>0</td>\n",
       "      <td>0</td>\n",
       "      <td>0</td>\n",
       "      <td>0</td>\n",
       "      <td>0</td>\n",
       "      <td>0</td>\n",
       "      <td>0</td>\n",
       "      <td>0</td>\n",
       "      <td>1</td>\n",
       "      <td>0</td>\n",
       "      <td>0</td>\n",
       "      <td>0</td>\n",
       "      <td>0</td>\n",
       "      <td>0</td>\n",
       "      <td>0</td>\n",
       "      <td>0</td>\n",
       "      <td>0</td>\n",
       "      <td>0</td>\n",
       "      <td>0</td>\n",
       "      <td>0</td>\n",
       "      <td>0</td>\n",
       "      <td>0</td>\n",
       "      <td>0</td>\n",
       "      <td>0</td>\n",
       "      <td>0</td>\n",
       "      <td>0</td>\n",
       "      <td>0</td>\n",
       "      <td>0</td>\n",
       "      <td>0</td>\n",
       "      <td>0</td>\n",
       "      <td>0</td>\n",
       "      <td>0</td>\n",
       "      <td>0</td>\n",
       "      <td>1</td>\n",
       "      <td>0</td>\n",
       "      <td>0</td>\n",
       "      <td>0</td>\n",
       "      <td>1</td>\n",
       "    </tr>\n",
       "    <tr>\n",
       "      <th>2000-01-04</th>\n",
       "      <td>130.0</td>\n",
       "      <td>2000-01-04</td>\n",
       "      <td>12.4</td>\n",
       "      <td>-19.01</td>\n",
       "      <td>-57.65</td>\n",
       "      <td>0.0</td>\n",
       "      <td>37.2</td>\n",
       "      <td>23.8</td>\n",
       "      <td>58.75</td>\n",
       "      <td>0</td>\n",
       "      <td>0</td>\n",
       "      <td>0</td>\n",
       "      <td>0</td>\n",
       "      <td>0</td>\n",
       "      <td>0</td>\n",
       "      <td>0</td>\n",
       "      <td>0</td>\n",
       "      <td>0</td>\n",
       "      <td>1</td>\n",
       "      <td>0</td>\n",
       "      <td>0</td>\n",
       "      <td>0</td>\n",
       "      <td>0</td>\n",
       "      <td>0</td>\n",
       "      <td>0</td>\n",
       "      <td>0</td>\n",
       "      <td>0</td>\n",
       "      <td>0</td>\n",
       "      <td>0</td>\n",
       "      <td>0</td>\n",
       "      <td>0</td>\n",
       "      <td>0</td>\n",
       "      <td>0</td>\n",
       "      <td>0</td>\n",
       "      <td>0</td>\n",
       "      <td>0</td>\n",
       "      <td>0</td>\n",
       "      <td>0</td>\n",
       "      <td>0</td>\n",
       "      <td>0</td>\n",
       "      <td>0</td>\n",
       "      <td>0</td>\n",
       "      <td>0</td>\n",
       "      <td>0</td>\n",
       "      <td>0</td>\n",
       "      <td>0</td>\n",
       "      <td>0</td>\n",
       "      <td>1</td>\n",
       "      <td>0</td>\n",
       "      <td>0</td>\n",
       "      <td>0</td>\n",
       "      <td>0</td>\n",
       "      <td>0</td>\n",
       "      <td>0</td>\n",
       "      <td>0</td>\n",
       "      <td>0</td>\n",
       "      <td>0</td>\n",
       "      <td>0</td>\n",
       "      <td>0</td>\n",
       "      <td>0</td>\n",
       "      <td>0</td>\n",
       "      <td>0</td>\n",
       "      <td>0</td>\n",
       "      <td>0</td>\n",
       "      <td>0</td>\n",
       "      <td>0</td>\n",
       "      <td>0</td>\n",
       "      <td>0</td>\n",
       "      <td>0</td>\n",
       "      <td>0</td>\n",
       "      <td>0</td>\n",
       "      <td>0</td>\n",
       "      <td>1</td>\n",
       "      <td>0</td>\n",
       "      <td>0</td>\n",
       "      <td>0</td>\n",
       "      <td>1</td>\n",
       "    </tr>\n",
       "    <tr>\n",
       "      <th>2000-01-05</th>\n",
       "      <td>130.0</td>\n",
       "      <td>2000-01-05</td>\n",
       "      <td>12.2</td>\n",
       "      <td>-19.01</td>\n",
       "      <td>-57.65</td>\n",
       "      <td>0.0</td>\n",
       "      <td>37.4</td>\n",
       "      <td>23.7</td>\n",
       "      <td>57.25</td>\n",
       "      <td>0</td>\n",
       "      <td>0</td>\n",
       "      <td>0</td>\n",
       "      <td>0</td>\n",
       "      <td>0</td>\n",
       "      <td>0</td>\n",
       "      <td>0</td>\n",
       "      <td>0</td>\n",
       "      <td>0</td>\n",
       "      <td>1</td>\n",
       "      <td>0</td>\n",
       "      <td>0</td>\n",
       "      <td>0</td>\n",
       "      <td>0</td>\n",
       "      <td>0</td>\n",
       "      <td>0</td>\n",
       "      <td>0</td>\n",
       "      <td>0</td>\n",
       "      <td>0</td>\n",
       "      <td>0</td>\n",
       "      <td>0</td>\n",
       "      <td>0</td>\n",
       "      <td>0</td>\n",
       "      <td>0</td>\n",
       "      <td>0</td>\n",
       "      <td>0</td>\n",
       "      <td>0</td>\n",
       "      <td>0</td>\n",
       "      <td>0</td>\n",
       "      <td>0</td>\n",
       "      <td>0</td>\n",
       "      <td>0</td>\n",
       "      <td>0</td>\n",
       "      <td>0</td>\n",
       "      <td>0</td>\n",
       "      <td>0</td>\n",
       "      <td>0</td>\n",
       "      <td>0</td>\n",
       "      <td>1</td>\n",
       "      <td>0</td>\n",
       "      <td>0</td>\n",
       "      <td>0</td>\n",
       "      <td>0</td>\n",
       "      <td>0</td>\n",
       "      <td>0</td>\n",
       "      <td>0</td>\n",
       "      <td>0</td>\n",
       "      <td>0</td>\n",
       "      <td>0</td>\n",
       "      <td>0</td>\n",
       "      <td>0</td>\n",
       "      <td>0</td>\n",
       "      <td>0</td>\n",
       "      <td>0</td>\n",
       "      <td>0</td>\n",
       "      <td>0</td>\n",
       "      <td>0</td>\n",
       "      <td>0</td>\n",
       "      <td>0</td>\n",
       "      <td>0</td>\n",
       "      <td>0</td>\n",
       "      <td>0</td>\n",
       "      <td>0</td>\n",
       "      <td>1</td>\n",
       "      <td>0</td>\n",
       "      <td>0</td>\n",
       "      <td>0</td>\n",
       "      <td>1</td>\n",
       "    </tr>\n",
       "  </tbody>\n",
       "</table>\n",
       "</div>"
      ],
      "text/plain": [
       "            altitude       data  insolacao  latitude  longitude  precipitacao  \\\n",
       "data                                                                            \n",
       "2000-01-01     130.0 2000-01-01        9.8    -19.01     -57.65           0.0   \n",
       "2000-01-02     130.0 2000-01-02       12.4    -19.01     -57.65           1.2   \n",
       "2000-01-03     130.0 2000-01-03       12.3    -19.01     -57.65           0.0   \n",
       "2000-01-04     130.0 2000-01-04       12.4    -19.01     -57.65           0.0   \n",
       "2000-01-05     130.0 2000-01-05       12.2    -19.01     -57.65           0.0   \n",
       "\n",
       "            tmax  tmin     ur  Estacao_2350018  Estacao_2351003  \\\n",
       "data                                                              \n",
       "2000-01-01  32.9  17.0  64.50                0                0   \n",
       "2000-01-02  33.6  24.4  59.25                0                0   \n",
       "2000-01-03  35.6  21.5  60.75                0                0   \n",
       "2000-01-04  37.2  23.8  58.75                0                0   \n",
       "2000-01-05  37.4  23.7  57.25                0                0   \n",
       "\n",
       "            Estacao_2352017  Estacao_2353008  Estacao_2550025  \\\n",
       "data                                                            \n",
       "2000-01-01                0                0                0   \n",
       "2000-01-02                0                0                0   \n",
       "2000-01-03                0                0                0   \n",
       "2000-01-04                0                0                0   \n",
       "2000-01-05                0                0                0   \n",
       "\n",
       "            Estacao_2551010  Estacao_2653012  Estacao_83075  Estacao_83513  \\\n",
       "data                                                                         \n",
       "2000-01-01                0                0              0              0   \n",
       "2000-01-02                0                0              0              0   \n",
       "2000-01-03                0                0              0              0   \n",
       "2000-01-04                0                0              0              0   \n",
       "2000-01-05                0                0              0              0   \n",
       "\n",
       "            Estacao_83552  Estacao_83565  Estacao_83623  Estacao_83630  \\\n",
       "data                                                                     \n",
       "2000-01-01              1              0              0              0   \n",
       "2000-01-02              1              0              0              0   \n",
       "2000-01-03              1              0              0              0   \n",
       "2000-01-04              1              0              0              0   \n",
       "2000-01-05              1              0              0              0   \n",
       "\n",
       "            Estacao_83669  Estacao_83676  Estacao_83702  Estacao_83704  \\\n",
       "data                                                                     \n",
       "2000-01-01              0              0              0              0   \n",
       "2000-01-02              0              0              0              0   \n",
       "2000-01-03              0              0              0              0   \n",
       "2000-01-04              0              0              0              0   \n",
       "2000-01-05              0              0              0              0   \n",
       "\n",
       "            Estacao_83714  Estacao_83716  Estacao_83726  Estacao_83766  \\\n",
       "data                                                                     \n",
       "2000-01-01              0              0              0              0   \n",
       "2000-01-02              0              0              0              0   \n",
       "2000-01-03              0              0              0              0   \n",
       "2000-01-04              0              0              0              0   \n",
       "2000-01-05              0              0              0              0   \n",
       "\n",
       "            Estacao_83767  Estacao_83773  Estacao_83781  Estacao_83783  \\\n",
       "data                                                                     \n",
       "2000-01-01              0              0              0              0   \n",
       "2000-01-02              0              0              0              0   \n",
       "2000-01-03              0              0              0              0   \n",
       "2000-01-04              0              0              0              0   \n",
       "2000-01-05              0              0              0              0   \n",
       "\n",
       "            Estacao_83784  Estacao_83811  Estacao_83813  Estacao_83836  \\\n",
       "data                                                                     \n",
       "2000-01-01              0              0              0              0   \n",
       "2000-01-02              0              0              0              0   \n",
       "2000-01-03              0              0              0              0   \n",
       "2000-01-04              0              0              0              0   \n",
       "2000-01-05              0              0              0              0   \n",
       "\n",
       "            Estacao_83842  Estacao_83844  Estacao_83851  cidade_avare  \\\n",
       "data                                                                    \n",
       "2000-01-01              0              0              0             0   \n",
       "2000-01-02              0              0              0             0   \n",
       "2000-01-03              0              0              0             0   \n",
       "2000-01-04              0              0              0             0   \n",
       "2000-01-05              0              0              0             0   \n",
       "\n",
       "            cidade_bandeirantes  cidade_campomourao  cidade_camposdojordao  \\\n",
       "data                                                                         \n",
       "2000-01-01                    0                   0                      0   \n",
       "2000-01-02                    0                   0                      0   \n",
       "2000-01-03                    0                   0                      0   \n",
       "2000-01-04                    0                   0                      0   \n",
       "2000-01-05                    0                   0                      0   \n",
       "\n",
       "            cidade_castro  cidade_catanduva  cidade_corumba  cidade_curitiba  \\\n",
       "data                                                                           \n",
       "2000-01-01              0                 0               1                0   \n",
       "2000-01-02              0                 0               1                0   \n",
       "2000-01-03              0                 0               1                0   \n",
       "2000-01-04              0                 0               1                0   \n",
       "2000-01-05              0                 0               1                0   \n",
       "\n",
       "            cidade_fernandespinheiro  cidade_franca  cidade_franciscobeltrao  \\\n",
       "data                                                                           \n",
       "2000-01-01                         0              0                        0   \n",
       "2000-01-02                         0              0                        0   \n",
       "2000-01-03                         0              0                        0   \n",
       "2000-01-04                         0              0                        0   \n",
       "2000-01-05                         0              0                        0   \n",
       "\n",
       "            cidade_guarapuava  cidade_guarulhos  cidade_irati  cidade_ivai  \\\n",
       "data                                                                         \n",
       "2000-01-01                  0                 0             0            0   \n",
       "2000-01-02                  0                 0             0            0   \n",
       "2000-01-03                  0                 0             0            0   \n",
       "2000-01-04                  0                 0             0            0   \n",
       "2000-01-05                  0                 0             0            0   \n",
       "\n",
       "            cidade_ivinhema  cidade_londrina  cidade_maringa  \\\n",
       "data                                                           \n",
       "2000-01-01                0                0               0   \n",
       "2000-01-02                0                0               0   \n",
       "2000-01-03                0                0               0   \n",
       "2000-01-04                0                0               0   \n",
       "2000-01-05                0                0               0   \n",
       "\n",
       "            cidade_nhecolandia  cidade_paranagua  cidade_paranaiba  \\\n",
       "data                                                                 \n",
       "2000-01-01                   0                 0                 0   \n",
       "2000-01-02                   0                 0                 0   \n",
       "2000-01-03                   0                 0                 0   \n",
       "2000-01-04                   0                 0                 0   \n",
       "2000-01-05                   0                 0                 0   \n",
       "\n",
       "            cidade_paranavai  cidade_pontapora  cidade_presidenteprudente  \\\n",
       "data                                                                        \n",
       "2000-01-01                 0                 0                          0   \n",
       "2000-01-02                 0                 0                          0   \n",
       "2000-01-03                 0                 0                          0   \n",
       "2000-01-04                 0                 0                          0   \n",
       "2000-01-05                 0                 0                          0   \n",
       "\n",
       "            cidade_saocarlos  cidade_saopaulo  cidade_saosimao  \\\n",
       "data                                                             \n",
       "2000-01-01                 0                0                0   \n",
       "2000-01-02                 0                0                0   \n",
       "2000-01-03                 0                0                0   \n",
       "2000-01-04                 0                0                0   \n",
       "2000-01-05                 0                0                0   \n",
       "\n",
       "            cidade_sorocaba  cidade_taubate  cidade_umuarama  \\\n",
       "data                                                           \n",
       "2000-01-01                0               0                0   \n",
       "2000-01-02                0               0                0   \n",
       "2000-01-03                0               0                0   \n",
       "2000-01-04                0               0                0   \n",
       "2000-01-05                0               0                0   \n",
       "\n",
       "            cidade_votuporanga  estado_ms  estado_pr  estado_sp  fonte_iapar  \\\n",
       "data                                                                           \n",
       "2000-01-01                   0          1          0          0            0   \n",
       "2000-01-02                   0          1          0          0            0   \n",
       "2000-01-03                   0          1          0          0            0   \n",
       "2000-01-04                   0          1          0          0            0   \n",
       "2000-01-05                   0          1          0          0            0   \n",
       "\n",
       "            fonte_inpe  \n",
       "data                    \n",
       "2000-01-01           1  \n",
       "2000-01-02           1  \n",
       "2000-01-03           1  \n",
       "2000-01-04           1  \n",
       "2000-01-05           1  "
      ]
     },
     "execution_count": 54,
     "metadata": {},
     "output_type": "execute_result"
    }
   ],
   "source": [
    "data.head()"
   ]
  },
  {
   "cell_type": "markdown",
   "metadata": {},
   "source": [
    "### Separação em treino e teste\n",
    "\n",
    "Temos que separar os últimos 7 dias como dataset de teste, o restante pode ser utilizado para treino e validação."
   ]
  },
  {
   "cell_type": "code",
   "execution_count": 55,
   "metadata": {},
   "outputs": [
    {
     "name": "stdout",
     "output_type": "stream",
     "text": [
      "Primeira data: 2000-01-01 00:00:00\n",
      "Última data: 2020-03-03 00:00:00\n"
     ]
    }
   ],
   "source": [
    "print('Primeira data: {}'.format(data.data.sort_values()[0]))\n",
    "print('Última data: {}'.format(data.data.sort_values()[-1]))"
   ]
  },
  {
   "cell_type": "code",
   "execution_count": 56,
   "metadata": {},
   "outputs": [],
   "source": [
    "data = data.drop(['data'], axis=1)\n",
    "# Até dia 26 temos os dados de treino\n",
    "data_train = data.loc['2013-01-01':'2020-02-26', :]\n",
    "# Do dia 26 para frente temos os dados de teste\n",
    "data_test = data.loc['2020-02-26':, :]"
   ]
  },
  {
   "cell_type": "code",
   "execution_count": 57,
   "metadata": {},
   "outputs": [
    {
     "name": "stdout",
     "output_type": "stream",
     "text": [
      "(64455, 76)\n",
      "(92, 76)\n"
     ]
    }
   ],
   "source": [
    "print(data_train.shape)\n",
    "print(data_test.shape)"
   ]
  },
  {
   "cell_type": "markdown",
   "metadata": {},
   "source": [
    "### Transformação em numpy array"
   ]
  },
  {
   "cell_type": "code",
   "execution_count": 58,
   "metadata": {},
   "outputs": [
    {
     "name": "stdout",
     "output_type": "stream",
     "text": [
      "(64455, 75)\n",
      "(64455,)\n",
      "(92, 75)\n",
      "(92,)\n"
     ]
    }
   ],
   "source": [
    "X_train = data_train.drop(['tmax'], axis=1)\n",
    "print(X_train.shape)\n",
    "y_train = data_train.loc[:, 'tmax'].values\n",
    "print(y_train.shape)\n",
    "X_test = data_test.drop(['tmax'], axis=1)\n",
    "print(X_test.shape)\n",
    "y_test = data_test.loc[:, 'tmax'].values\n",
    "print(y_test.shape)"
   ]
  },
  {
   "cell_type": "code",
   "execution_count": 59,
   "metadata": {},
   "outputs": [],
   "source": [
    "X_train = X_train.to_numpy().astype('float32')\n",
    "y_train = y_train.reshape(-1, 1).astype('float32')\n",
    "X_test = X_test.to_numpy().astype('float32')\n",
    "y_test = y_test.reshape(-1, 1).astype('float32')"
   ]
  },
  {
   "cell_type": "code",
   "execution_count": 60,
   "metadata": {},
   "outputs": [
    {
     "data": {
      "text/plain": [
       "array([130.  ,   7.6 , -19.01, -57.65,   5.6 ,  18.  ,  85.25,   0.  ,\n",
       "         0.  ,   0.  ,   0.  ,   0.  ,   0.  ,   0.  ,   0.  ,   0.  ,\n",
       "         1.  ,   0.  ,   0.  ,   0.  ,   0.  ,   0.  ,   0.  ,   0.  ,\n",
       "         0.  ,   0.  ,   0.  ,   0.  ,   0.  ,   0.  ,   0.  ,   0.  ,\n",
       "         0.  ,   0.  ,   0.  ,   0.  ,   0.  ,   0.  ,   0.  ,   0.  ,\n",
       "         0.  ,   0.  ,   0.  ,   0.  ,   0.  ,   1.  ,   0.  ,   0.  ,\n",
       "         0.  ,   0.  ,   0.  ,   0.  ,   0.  ,   0.  ,   0.  ,   0.  ,\n",
       "         0.  ,   0.  ,   0.  ,   0.  ,   0.  ,   0.  ,   0.  ,   0.  ,\n",
       "         0.  ,   0.  ,   0.  ,   0.  ,   0.  ,   0.  ,   1.  ,   0.  ,\n",
       "         0.  ,   0.  ,   1.  ], dtype=float32)"
      ]
     },
     "execution_count": 60,
     "metadata": {},
     "output_type": "execute_result"
    }
   ],
   "source": [
    "# Observando uma linha do array\n",
    "X_train[0]"
   ]
  },
  {
   "cell_type": "code",
   "execution_count": 61,
   "metadata": {},
   "outputs": [
    {
     "data": {
      "text/plain": [
       "66"
      ]
     },
     "execution_count": 61,
     "metadata": {},
     "output_type": "execute_result"
    }
   ],
   "source": [
    "gc.collect()"
   ]
  },
  {
   "cell_type": "markdown",
   "metadata": {},
   "source": [
    "### Normalização"
   ]
  },
  {
   "cell_type": "code",
   "execution_count": 62,
   "metadata": {},
   "outputs": [],
   "source": [
    "scaler_X = MinMaxScaler(feature_range=(0, 1))\n",
    "X_train = scaler_X.fit_transform(X_train)\n",
    "X_test = scaler_X.transform(X_test)\n",
    "scaler_y = MinMaxScaler(feature_range=(0, 1))\n",
    "y_train = scaler_y.fit_transform(y_train)\n",
    "y_test = scaler_y.transform(y_test)"
   ]
  },
  {
   "cell_type": "markdown",
   "metadata": {},
   "source": [
    "### Tentativa de MLP"
   ]
  },
  {
   "cell_type": "code",
   "execution_count": 63,
   "metadata": {},
   "outputs": [
    {
     "name": "stdout",
     "output_type": "stream",
     "text": [
      "Epoch 1/30\n",
      "WARNING:tensorflow:Callbacks method `on_test_batch_end` is slow compared to the batch time. Check your callbacks.\n",
      "403/403 - 0s - loss: 0.0234 - mse: 0.0234 - val_loss: 0.0317 - val_mse: 0.0317\n",
      "Epoch 2/30\n",
      "403/403 - 0s - loss: 0.0073 - mse: 0.0073 - val_loss: 0.0346 - val_mse: 0.0346\n",
      "Epoch 3/30\n",
      "403/403 - 0s - loss: 0.0062 - mse: 0.0062 - val_loss: 0.0391 - val_mse: 0.0391\n",
      "Epoch 4/30\n",
      "403/403 - 0s - loss: 0.0058 - mse: 0.0058 - val_loss: 0.0371 - val_mse: 0.0371\n",
      "Epoch 5/30\n",
      "403/403 - 0s - loss: 0.0056 - mse: 0.0056 - val_loss: 0.0378 - val_mse: 0.0378\n",
      "Epoch 6/30\n",
      "403/403 - 0s - loss: 0.0055 - mse: 0.0055 - val_loss: 0.0370 - val_mse: 0.0370\n",
      "Epoch 7/30\n",
      "403/403 - 0s - loss: 0.0054 - mse: 0.0054 - val_loss: 0.0374 - val_mse: 0.0374\n",
      "Epoch 8/30\n",
      "403/403 - 0s - loss: 0.0054 - mse: 0.0054 - val_loss: 0.0377 - val_mse: 0.0377\n",
      "Epoch 9/30\n",
      "403/403 - 1s - loss: 0.0053 - mse: 0.0053 - val_loss: 0.0385 - val_mse: 0.0385\n",
      "Epoch 10/30\n",
      "403/403 - 0s - loss: 0.0053 - mse: 0.0053 - val_loss: 0.0350 - val_mse: 0.0350\n",
      "Epoch 11/30\n",
      "403/403 - 0s - loss: 0.0052 - mse: 0.0052 - val_loss: 0.0363 - val_mse: 0.0363\n",
      "Epoch 12/30\n",
      "403/403 - 0s - loss: 0.0052 - mse: 0.0052 - val_loss: 0.0375 - val_mse: 0.0375\n",
      "Epoch 13/30\n",
      "403/403 - 1s - loss: 0.0051 - mse: 0.0051 - val_loss: 0.0370 - val_mse: 0.0370\n",
      "Epoch 14/30\n",
      "403/403 - 0s - loss: 0.0051 - mse: 0.0051 - val_loss: 0.0372 - val_mse: 0.0372\n",
      "Epoch 15/30\n",
      "403/403 - 0s - loss: 0.0051 - mse: 0.0051 - val_loss: 0.0363 - val_mse: 0.0363\n",
      "Epoch 16/30\n",
      "403/403 - 0s - loss: 0.0050 - mse: 0.0050 - val_loss: 0.0377 - val_mse: 0.0377\n",
      "Epoch 17/30\n",
      "403/403 - 0s - loss: 0.0050 - mse: 0.0050 - val_loss: 0.0366 - val_mse: 0.0366\n",
      "Epoch 18/30\n",
      "403/403 - 0s - loss: 0.0050 - mse: 0.0050 - val_loss: 0.0362 - val_mse: 0.0362\n",
      "Epoch 19/30\n",
      "403/403 - 0s - loss: 0.0049 - mse: 0.0049 - val_loss: 0.0360 - val_mse: 0.0360\n",
      "Epoch 20/30\n",
      "403/403 - 1s - loss: 0.0049 - mse: 0.0049 - val_loss: 0.0367 - val_mse: 0.0367\n",
      "Epoch 21/30\n",
      "403/403 - 0s - loss: 0.0049 - mse: 0.0049 - val_loss: 0.0342 - val_mse: 0.0342\n",
      "Epoch 22/30\n",
      "403/403 - 0s - loss: 0.0049 - mse: 0.0049 - val_loss: 0.0346 - val_mse: 0.0346\n",
      "Epoch 23/30\n",
      "403/403 - 1s - loss: 0.0049 - mse: 0.0049 - val_loss: 0.0332 - val_mse: 0.0332\n",
      "Epoch 24/30\n",
      "403/403 - 0s - loss: 0.0049 - mse: 0.0049 - val_loss: 0.0330 - val_mse: 0.0330\n",
      "Epoch 25/30\n",
      "403/403 - 1s - loss: 0.0048 - mse: 0.0048 - val_loss: 0.0329 - val_mse: 0.0329\n",
      "Epoch 26/30\n",
      "403/403 - 0s - loss: 0.0048 - mse: 0.0048 - val_loss: 0.0315 - val_mse: 0.0315\n",
      "Epoch 27/30\n",
      "403/403 - 0s - loss: 0.0048 - mse: 0.0048 - val_loss: 0.0294 - val_mse: 0.0294\n",
      "Epoch 28/30\n",
      "403/403 - 0s - loss: 0.0048 - mse: 0.0048 - val_loss: 0.0277 - val_mse: 0.0277\n",
      "Epoch 29/30\n",
      "403/403 - 1s - loss: 0.0048 - mse: 0.0048 - val_loss: 0.0266 - val_mse: 0.0266\n",
      "Epoch 30/30\n",
      "403/403 - 0s - loss: 0.0048 - mse: 0.0048 - val_loss: 0.0279 - val_mse: 0.0279\n"
     ]
    }
   ],
   "source": [
    "# data_mlp = data.reshape(rows,cols)\n",
    "model = Sequential()\n",
    "model.add(Dense(10, input_dim = (X_train.shape[1]), activation = 'relu'))\n",
    "model.add(Dense(64, activation = 'relu'))\n",
    "model.add(Dense(1, activation='linear'))\n",
    "\n",
    "model.compile(loss = 'mean_squared_error',\n",
    "              optimizer = 'adam',\n",
    "              metrics = ['mse'])\n",
    "\n",
    "history = model.fit(X_train, \n",
    "                    y_train, \n",
    "                    epochs=30, \n",
    "                    batch_size=128, \n",
    "                    verbose=2, \n",
    "                    validation_split = 0.20)"
   ]
  },
  {
   "cell_type": "code",
   "execution_count": 64,
   "metadata": {},
   "outputs": [
    {
     "data": {
      "image/png": "[encoded data removed]",
      "text/plain": [
       "<Figure size 432x288 with 1 Axes>"
      ]
     },
     "metadata": {
      "needs_background": "light"
     },
     "output_type": "display_data"
    },
    {
     "name": "stdout",
     "output_type": "stream",
     "text": [
      "RMSE: 0.06939\n"
     ]
    }
   ],
   "source": [
    "# plot history\n",
    "plt.plot(history.history['loss'], label='train')\n",
    "plt.plot(history.history['val_loss'], label='val')\n",
    "plt.legend()\n",
    "plt.show()\n",
    "\n",
    "y_pred = model.predict(X_test)\n",
    "rmse = np.sqrt(mean_squared_error(y_test, y_pred))\n",
    "print('RMSE: {:.5f}'.format(rmse))"
   ]
  },
  {
   "cell_type": "code",
   "execution_count": 65,
   "metadata": {},
   "outputs": [
    {
     "data": {
      "text/plain": [
       "<matplotlib.legend.Legend at 0x7feaa40ca490>"
      ]
     },
     "execution_count": 65,
     "metadata": {},
     "output_type": "execute_result"
    },
    {
     "data": {
      "image/png": "[encoded data removed]",
      "text/plain": [
       "<Figure size 432x288 with 1 Axes>"
      ]
     },
     "metadata": {
      "needs_background": "light"
     },
     "output_type": "display_data"
    }
   ],
   "source": [
    "# Plotando a série predita e a série real\n",
    "plt.plot(y_pred)\n",
    "plt.plot(y_test)\n",
    "plt.legend(['modelo', 'real'], loc='upper right')"
   ]
  },
  {
   "cell_type": "markdown",
   "metadata": {},
   "source": [
    "Possível overfitting. O loss para a validação não está diminuindo de acordo com o loss para os dados de treino."
   ]
  },
  {
   "cell_type": "markdown",
   "metadata": {},
   "source": [
    "### Tentativa de RNN"
   ]
  },
  {
   "cell_type": "code",
   "execution_count": 66,
   "metadata": {},
   "outputs": [],
   "source": [
    "rows = X_train.shape[0]\n",
    "cols = X_train.shape[1]\n",
    "X_train = X_train.reshape(rows, cols, 1)\n",
    "rows = X_test.shape[0]\n",
    "cols = X_test.shape[1]\n",
    "X_test = X_test.reshape(rows, cols, 1)"
   ]
  },
  {
   "cell_type": "code",
   "execution_count": 67,
   "metadata": {},
   "outputs": [
    {
     "name": "stdout",
     "output_type": "stream",
     "text": [
      "Epoch 1/35\n",
      "403/403 - 8s - loss: 0.0136 - mse: 0.0136 - val_loss: 0.0529 - val_mse: 0.0529\n",
      "Epoch 2/35\n",
      "403/403 - 9s - loss: 0.0067 - mse: 0.0067 - val_loss: 0.0521 - val_mse: 0.0521\n",
      "Epoch 3/35\n",
      "403/403 - 9s - loss: 0.0063 - mse: 0.0063 - val_loss: 0.0544 - val_mse: 0.0544\n",
      "Epoch 4/35\n",
      "403/403 - 9s - loss: 0.0060 - mse: 0.0060 - val_loss: 0.0482 - val_mse: 0.0482\n",
      "Epoch 5/35\n",
      "403/403 - 9s - loss: 0.0059 - mse: 0.0059 - val_loss: 0.0441 - val_mse: 0.0441\n",
      "Epoch 6/35\n",
      "403/403 - 9s - loss: 0.0059 - mse: 0.0059 - val_loss: 0.0417 - val_mse: 0.0417\n",
      "Epoch 7/35\n",
      "403/403 - 9s - loss: 0.0059 - mse: 0.0059 - val_loss: 0.0378 - val_mse: 0.0378\n",
      "Epoch 8/35\n",
      "403/403 - 8s - loss: 0.0057 - mse: 0.0057 - val_loss: 0.0309 - val_mse: 0.0309\n",
      "Epoch 9/35\n",
      "403/403 - 9s - loss: 0.0057 - mse: 0.0057 - val_loss: 0.0329 - val_mse: 0.0329\n",
      "Epoch 10/35\n",
      "403/403 - 9s - loss: 0.0056 - mse: 0.0056 - val_loss: 0.0285 - val_mse: 0.0285\n",
      "Epoch 11/35\n",
      "403/403 - 9s - loss: 0.0056 - mse: 0.0056 - val_loss: 0.0229 - val_mse: 0.0229\n",
      "Epoch 12/35\n",
      "403/403 - 9s - loss: 0.0056 - mse: 0.0056 - val_loss: 0.0232 - val_mse: 0.0232\n",
      "Epoch 13/35\n",
      "403/403 - 8s - loss: 0.0056 - mse: 0.0056 - val_loss: 0.0243 - val_mse: 0.0243\n",
      "Epoch 14/35\n",
      "403/403 - 9s - loss: 0.0056 - mse: 0.0056 - val_loss: 0.0219 - val_mse: 0.0219\n",
      "Epoch 15/35\n",
      "403/403 - 9s - loss: 0.0056 - mse: 0.0056 - val_loss: 0.0230 - val_mse: 0.0230\n",
      "Epoch 16/35\n",
      "403/403 - 9s - loss: 0.0055 - mse: 0.0055 - val_loss: 0.0174 - val_mse: 0.0174\n",
      "Epoch 17/35\n",
      "403/403 - 9s - loss: 0.0055 - mse: 0.0055 - val_loss: 0.0240 - val_mse: 0.0240\n",
      "Epoch 18/35\n",
      "403/403 - 9s - loss: 0.0055 - mse: 0.0055 - val_loss: 0.0260 - val_mse: 0.0260\n",
      "Epoch 19/35\n",
      "403/403 - 9s - loss: 0.0055 - mse: 0.0055 - val_loss: 0.0209 - val_mse: 0.0209\n",
      "Epoch 20/35\n",
      "403/403 - 9s - loss: 0.0055 - mse: 0.0055 - val_loss: 0.0195 - val_mse: 0.0195\n",
      "Epoch 21/35\n",
      "403/403 - 9s - loss: 0.0056 - mse: 0.0056 - val_loss: 0.0207 - val_mse: 0.0207\n",
      "Epoch 22/35\n",
      "403/403 - 9s - loss: 0.0054 - mse: 0.0054 - val_loss: 0.0219 - val_mse: 0.0219\n",
      "Epoch 23/35\n",
      "403/403 - 9s - loss: 0.0056 - mse: 0.0056 - val_loss: 0.0223 - val_mse: 0.0223\n",
      "Epoch 24/35\n",
      "403/403 - 9s - loss: 0.0055 - mse: 0.0055 - val_loss: 0.0232 - val_mse: 0.0232\n",
      "Epoch 25/35\n",
      "403/403 - 9s - loss: 0.0055 - mse: 0.0055 - val_loss: 0.0244 - val_mse: 0.0244\n",
      "Epoch 26/35\n",
      "403/403 - 9s - loss: 0.0054 - mse: 0.0054 - val_loss: 0.0234 - val_mse: 0.0234\n",
      "Epoch 27/35\n",
      "403/403 - 9s - loss: 0.0054 - mse: 0.0054 - val_loss: 0.0231 - val_mse: 0.0231\n",
      "Epoch 28/35\n",
      "403/403 - 9s - loss: 0.0054 - mse: 0.0054 - val_loss: 0.0249 - val_mse: 0.0249\n",
      "Epoch 29/35\n",
      "403/403 - 9s - loss: 0.0054 - mse: 0.0054 - val_loss: 0.0218 - val_mse: 0.0218\n",
      "Epoch 30/35\n",
      "403/403 - 9s - loss: 0.0054 - mse: 0.0054 - val_loss: 0.0331 - val_mse: 0.0331\n",
      "Epoch 31/35\n",
      "403/403 - 9s - loss: 0.0054 - mse: 0.0054 - val_loss: 0.0270 - val_mse: 0.0270\n",
      "Epoch 32/35\n",
      "403/403 - 9s - loss: 0.0053 - mse: 0.0053 - val_loss: 0.0274 - val_mse: 0.0274\n",
      "Epoch 33/35\n",
      "403/403 - 9s - loss: 0.0053 - mse: 0.0053 - val_loss: 0.0224 - val_mse: 0.0224\n",
      "Epoch 34/35\n",
      "403/403 - 9s - loss: 0.0053 - mse: 0.0053 - val_loss: 0.0233 - val_mse: 0.0233\n",
      "Epoch 35/35\n",
      "403/403 - 9s - loss: 0.0053 - mse: 0.0053 - val_loss: 0.0236 - val_mse: 0.0236\n"
     ]
    }
   ],
   "source": [
    "model = Sequential()\n",
    "model.add(SimpleRNN(32, input_shape = (X_train.shape[1], X_train.shape[2])))\n",
    "model.add(Dense(16))\n",
    "model.add(Dense(1))\n",
    "\n",
    "model.compile(loss = 'mean_squared_error',\n",
    "              optimizer = 'adam',\n",
    "              metrics = ['mse'])\n",
    "\n",
    "history = model.fit(X_train, y_train, \n",
    "    epochs=35, batch_size=128, verbose=2, \n",
    "    validation_split = 0.20)"
   ]
  },
  {
   "cell_type": "code",
   "execution_count": 68,
   "metadata": {},
   "outputs": [
    {
     "data": {
      "image/png": "[encoded data removed]",
      "text/plain": [
       "<Figure size 432x288 with 1 Axes>"
      ]
     },
     "metadata": {
      "needs_background": "light"
     },
     "output_type": "display_data"
    },
    {
     "name": "stdout",
     "output_type": "stream",
     "text": [
      "RMSE: 0.06900\n"
     ]
    }
   ],
   "source": [
    "# plot history\n",
    "plt.plot(history.history['loss'], label='train')\n",
    "plt.plot(history.history['val_loss'], label='val')\n",
    "plt.legend()\n",
    "plt.show()\n",
    "\n",
    "y_pred = model.predict(X_test)\n",
    "rmse = np.sqrt(mean_squared_error(y_test, y_pred))\n",
    "print('RMSE: {:.5f}'.format(rmse))"
   ]
  },
  {
   "cell_type": "code",
   "execution_count": 69,
   "metadata": {},
   "outputs": [
    {
     "data": {
      "text/plain": [
       "<matplotlib.legend.Legend at 0x7fea884902d0>"
      ]
     },
     "execution_count": 69,
     "metadata": {},
     "output_type": "execute_result"
    },
    {
     "data": {
      "image/png": "[encoded data removed]",
      "text/plain": [
       "<Figure size 432x288 with 1 Axes>"
      ]
     },
     "metadata": {
      "needs_background": "light"
     },
     "output_type": "display_data"
    }
   ],
   "source": [
    "# Plotando a série predita e a série real\n",
    "plt.plot(y_pred)\n",
    "plt.plot(y_test)\n",
    "plt.legend(['modelo', 'real'], loc='upper right')"
   ]
  },
  {
   "cell_type": "markdown",
   "metadata": {},
   "source": [
    "O modelo apresenta um erro médio baixo. Porém, podemos observar que a série predita não acompanha os padrões dos valores reais em diversos pontos."
   ]
  },
  {
   "cell_type": "markdown",
   "metadata": {},
   "source": [
    "### Tentativa de LSTM"
   ]
  },
  {
   "cell_type": "code",
   "execution_count": 71,
   "metadata": {},
   "outputs": [
    {
     "name": "stdout",
     "output_type": "stream",
     "text": [
      "Epoch 1/35\n",
      "403/403 - 5s - loss: 0.0267 - mse: 0.0267 - val_loss: 0.0230 - val_mse: 0.0230\n",
      "Epoch 2/35\n",
      "403/403 - 4s - loss: 0.0164 - mse: 0.0164 - val_loss: 0.0187 - val_mse: 0.0187\n",
      "Epoch 3/35\n",
      "403/403 - 4s - loss: 0.0158 - mse: 0.0158 - val_loss: 0.0230 - val_mse: 0.0230\n",
      "Epoch 4/35\n",
      "403/403 - 4s - loss: 0.0156 - mse: 0.0156 - val_loss: 0.0214 - val_mse: 0.0214\n",
      "Epoch 5/35\n",
      "403/403 - 4s - loss: 0.0153 - mse: 0.0153 - val_loss: 0.0222 - val_mse: 0.0222\n",
      "Epoch 6/35\n",
      "403/403 - 4s - loss: 0.0149 - mse: 0.0149 - val_loss: 0.0244 - val_mse: 0.0244\n",
      "Epoch 7/35\n",
      "403/403 - 4s - loss: 0.0146 - mse: 0.0146 - val_loss: 0.0250 - val_mse: 0.0250\n",
      "Epoch 8/35\n",
      "403/403 - 4s - loss: 0.0146 - mse: 0.0146 - val_loss: 0.0233 - val_mse: 0.0233\n",
      "Epoch 9/35\n",
      "403/403 - 4s - loss: 0.0143 - mse: 0.0143 - val_loss: 0.0214 - val_mse: 0.0214\n",
      "Epoch 10/35\n",
      "403/403 - 4s - loss: 0.0143 - mse: 0.0143 - val_loss: 0.0220 - val_mse: 0.0220\n",
      "Epoch 11/35\n",
      "403/403 - 4s - loss: 0.0141 - mse: 0.0141 - val_loss: 0.0212 - val_mse: 0.0212\n",
      "Epoch 12/35\n",
      "403/403 - 4s - loss: 0.0140 - mse: 0.0140 - val_loss: 0.0206 - val_mse: 0.0206\n",
      "Epoch 13/35\n",
      "403/403 - 4s - loss: 0.0137 - mse: 0.0137 - val_loss: 0.0198 - val_mse: 0.0198\n",
      "Epoch 14/35\n",
      "403/403 - 4s - loss: 0.0135 - mse: 0.0135 - val_loss: 0.0194 - val_mse: 0.0194\n",
      "Epoch 15/35\n",
      "403/403 - 4s - loss: 0.0132 - mse: 0.0132 - val_loss: 0.0181 - val_mse: 0.0181\n",
      "Epoch 16/35\n",
      "403/403 - 4s - loss: 0.0130 - mse: 0.0130 - val_loss: 0.0175 - val_mse: 0.0175\n",
      "Epoch 17/35\n",
      "403/403 - 4s - loss: 0.0129 - mse: 0.0129 - val_loss: 0.0183 - val_mse: 0.0183\n",
      "Epoch 18/35\n",
      "403/403 - 4s - loss: 0.0127 - mse: 0.0127 - val_loss: 0.0185 - val_mse: 0.0185\n",
      "Epoch 19/35\n",
      "403/403 - 4s - loss: 0.0126 - mse: 0.0126 - val_loss: 0.0176 - val_mse: 0.0176\n",
      "Epoch 20/35\n",
      "403/403 - 4s - loss: 0.0125 - mse: 0.0125 - val_loss: 0.0202 - val_mse: 0.0202\n",
      "Epoch 21/35\n",
      "403/403 - 4s - loss: 0.0124 - mse: 0.0124 - val_loss: 0.0188 - val_mse: 0.0188\n",
      "Epoch 22/35\n",
      "403/403 - 4s - loss: 0.0125 - mse: 0.0125 - val_loss: 0.0219 - val_mse: 0.0219\n",
      "Epoch 23/35\n",
      "403/403 - 4s - loss: 0.0123 - mse: 0.0123 - val_loss: 0.0171 - val_mse: 0.0171\n",
      "Epoch 24/35\n",
      "403/403 - 4s - loss: 0.0123 - mse: 0.0123 - val_loss: 0.0163 - val_mse: 0.0163\n",
      "Epoch 25/35\n",
      "403/403 - 4s - loss: 0.0122 - mse: 0.0122 - val_loss: 0.0173 - val_mse: 0.0173\n",
      "Epoch 26/35\n",
      "403/403 - 4s - loss: 0.0121 - mse: 0.0121 - val_loss: 0.0165 - val_mse: 0.0165\n",
      "Epoch 27/35\n",
      "403/403 - 4s - loss: 0.0121 - mse: 0.0121 - val_loss: 0.0166 - val_mse: 0.0166\n",
      "Epoch 28/35\n",
      "403/403 - 4s - loss: 0.0120 - mse: 0.0120 - val_loss: 0.0168 - val_mse: 0.0168\n",
      "Epoch 29/35\n",
      "403/403 - 4s - loss: 0.0120 - mse: 0.0120 - val_loss: 0.0172 - val_mse: 0.0172\n",
      "Epoch 30/35\n",
      "403/403 - 4s - loss: 0.0119 - mse: 0.0119 - val_loss: 0.0171 - val_mse: 0.0171\n",
      "Epoch 31/35\n",
      "403/403 - 4s - loss: 0.0118 - mse: 0.0118 - val_loss: 0.0160 - val_mse: 0.0160\n",
      "Epoch 32/35\n",
      "403/403 - 4s - loss: 0.0119 - mse: 0.0119 - val_loss: 0.0162 - val_mse: 0.0162\n",
      "Epoch 33/35\n",
      "403/403 - 4s - loss: 0.0117 - mse: 0.0117 - val_loss: 0.0175 - val_mse: 0.0175\n",
      "Epoch 34/35\n",
      "403/403 - 4s - loss: 0.0117 - mse: 0.0117 - val_loss: 0.0183 - val_mse: 0.0183\n",
      "Epoch 35/35\n",
      "403/403 - 4s - loss: 0.0117 - mse: 0.0117 - val_loss: 0.0171 - val_mse: 0.0171\n"
     ]
    }
   ],
   "source": [
    "model = Sequential()\n",
    "model.add(LSTM(50, input_shape = (X_train.shape[1], X_train.shape[2]), dropout=0.2))\n",
    "model.add(Dense(32))\n",
    "model.add(Dense(1))\n",
    "\n",
    "model.compile(loss = 'mean_squared_error',\n",
    "              optimizer = 'adam',\n",
    "              metrics = ['mse'])\n",
    "\n",
    "history = model.fit(X_train, y_train, epochs=35, batch_size=128, verbose=2, validation_split=0.2)"
   ]
  },
  {
   "cell_type": "code",
   "execution_count": 72,
   "metadata": {},
   "outputs": [
    {
     "data": {
      "image/png": "[encoded data removed]",
      "text/plain": [
       "<Figure size 432x288 with 1 Axes>"
      ]
     },
     "metadata": {
      "needs_background": "light"
     },
     "output_type": "display_data"
    },
    {
     "name": "stdout",
     "output_type": "stream",
     "text": [
      "RMSE: 0.05597\n"
     ]
    }
   ],
   "source": [
    "# plot history\n",
    "plt.plot(history.history['loss'], label='train')\n",
    "plt.plot(history.history['val_loss'], label='val')\n",
    "plt.legend()\n",
    "plt.show()\n",
    "\n",
    "y_pred = model.predict(X_test)\n",
    "rmse = np.sqrt(mean_squared_error(y_test, y_pred))\n",
    "print('RMSE: {:.5f}'.format(rmse))"
   ]
  },
  {
   "cell_type": "code",
   "execution_count": 73,
   "metadata": {},
   "outputs": [
    {
     "data": {
      "text/plain": [
       "<matplotlib.legend.Legend at 0x7fea8850a2d0>"
      ]
     },
     "execution_count": 73,
     "metadata": {},
     "output_type": "execute_result"
    },
    {
     "data": {
      "image/png": "[encoded data removed]",
      "text/plain": [
       "<Figure size 432x288 with 1 Axes>"
      ]
     },
     "metadata": {
      "needs_background": "light"
     },
     "output_type": "display_data"
    }
   ],
   "source": [
    "# Plotando a série predita e a série real\n",
    "plt.plot(y_pred)\n",
    "plt.plot(y_test)\n",
    "plt.legend(['modelo', 'real'], loc='upper right')"
   ]
  },
  {
   "cell_type": "markdown",
   "metadata": {},
   "source": [
    "### Continuar depois...\n",
    "\n",
    "Em geral os modelos estão com um erro médio quadrático baixo, porém ao plotar as séries, observamos que os valores preditos não acompanham bem os padrões dos valores reais.\n",
    "\n",
    "Quando se trabalha com séries temporais, é comum criar novas variáveis para o dataset considerando os valores anteriores da série (variáveis de lag) e medidas de tendência móveis (rolling). Podemos tentar adicionar estas variáveis ao conjunto de dados e verificar o desempenho."
   ]
  },
  {
   "cell_type": "code",
   "execution_count": null,
   "metadata": {},
   "outputs": [],
   "source": []
  }
 ],
 "metadata": {
  "kernelspec": {
   "display_name": "Python [conda env:tf_env] *",
   "language": "python",
   "name": "conda-env-tf_env-py"
  },
  "language_info": {
   "codemirror_mode": {
    "name": "ipython",
    "version": 3
   },
   "file_extension": ".py",
   "mimetype": "text/x-python",
   "name": "python",
   "nbconvert_exporter": "python",
   "pygments_lexer": "ipython3",
   "version": "3.7.7"
  }
 },
 "nbformat": 4,
 "nbformat_minor": 4
}
